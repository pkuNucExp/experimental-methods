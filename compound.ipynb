{
 "cells": [
  {
   "cell_type": "markdown",
   "metadata": {},
   "source": [
    "## SRIM 靶材设定为化合物"
   ]
  },
  {
   "cell_type": "markdown",
   "metadata": {},
   "source": [
    "比如，设定靶材为水，即$\\rm{H_2O}$. \n",
    "![](compound.png)"
   ]
  },
  {
   "cell_type": "markdown",
   "metadata": {},
   "source": [
    "点击添加元素，分别添加组成化合物的各元素。Stoich为原子个数比。添加完毕后，需手动调整Target的密度选项。我们设定靶材为$\\rm{H_2O}$,因此将密度修改为$1\\rm{g/cm^3}$"
   ]
  },
  {
   "cell_type": "markdown",
   "metadata": {},
   "source": [
    "随后获得数据文件\n",
    "```txt\n",
    "        Ion        dE/dx      dE/dx     Projected  Longitudinal   Lateral\n",
    "       Energy      Elec.      Nuclear     Range     Straggling   Straggling\n",
    "  --------------  ---------- ---------- ----------  ----------  ----------\n",
    "  10.00 keV   4.556E+01  8.659E-01    2507 A       651 A       678 A   \n",
    "  11.00 keV   4.766E+01  8.096E-01    2698 A       670 A       707 A   \n",
    "  12.00 keV   4.965E+01  7.610E-01    2882 A       688 A       733 A   \n",
    "  13.00 keV   5.154E+01  7.185E-01    3061 A       703 A       757 A   \n",
    "  14.00 keV   5.334E+01  6.810E-01    3235 A       718 A       780 A   \n",
    "  15.00 keV   5.506E+01  6.476E-01    3404 A       731 A       801 A   \n",
    "  16.00 keV   5.670E+01  6.178E-01    3570 A       743 A       821 A   \n",
    "  17.00 keV   5.828E+01  5.908E-01    3731 A       754 A       840 A   \n",
    "```\n",
    "第一列为注入能量，第二列为电磁作用能损本领，即dE，第四列为阻停距离。这三列即为我们需要的数据。"
   ]
  }
 ],
 "metadata": {
  "kernelspec": {
   "display_name": "ROOT C++",
   "language": "c++",
   "name": "root"
  },
  "language_info": {
   "codemirror_mode": "text/x-c++src",
   "file_extension": ".C",
   "mimetype": " text/x-c++src",
   "name": "c++"
  }
 },
 "nbformat": 4,
 "nbformat_minor": 2
}
