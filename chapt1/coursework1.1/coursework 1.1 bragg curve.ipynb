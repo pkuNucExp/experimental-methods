{
 "cells": [
  {
   "cell_type": "markdown",
   "metadata": {},
   "source": [
    "## 作业 1.1 计算Bragg curve\n",
    "\n",
    "计算质子和$^{12}C$在水中的Bragg curve。分别调节质子和$^{12}C$的入射能量，使两者在水中的Bragg peak 都位于127mm处，Bragg curve的横轴单位取mm，纵轴单位取 MeV/mm。\n",
    "两种粒子的曲线画在一张图上。\n",
    "\n",
    " \n",
    "### 预期效果\n",
    "![](result.png)\n",
    "\n",
    "### 期限\n",
    " 1.本作业至发布之日起限期两周\n",
    "\n",
    "\n"
   ]
  },
  {
   "cell_type": "markdown",
   "metadata": {},
   "source": [
    "### 提示\n",
    "*  dE/dx 依赖于E， 而粒子在注入过程中E不断变化，模拟中要考虑这个因素。\n",
    "* 下面显示数据文件的读取以及ROOT中画图的基本方法。作业1.1和作业1.2都可以从以下代码扩展得到。\n",
    " 1. 下载[SRIM数据代码](srimc.C) 或 [Lise数据代码](lisec.C)\n",
    " 2. 在ROOT上运行 root -l xx.C\n",
    "### 读入LISE++ 数据文件 "
   ]
  },
  {
   "cell_type": "code",
   "execution_count": 1,
   "metadata": {
    "scrolled": false
   },
   "outputs": [
    {
     "data": {
      "text/html": [
       "\n",
       "<div id=\"root_plot_1\"\n",
       "     style=\"width: 696px; height: 472px\">\n",
       "</div>\n",
       "\n",
       "<script>\n",
       " requirejs.config({\n",
       "     paths: {\n",
       "       'JSRootCore' : 'https://root.cern.ch/js/notebook//scripts/JSRootCore',\n",
       "     }\n",
       "   });\n",
       " require(['JSRootCore'],\n",
       "     function(Core) {\n",
       "       var obj = Core.JSONR_unref({\"_typename\":\"TCanvas\",\"fUniqueID\":0,\"fBits\":36896776,\"fLineColor\":1,\"fLineStyle\":1,\"fLineWidth\":1,\"fFillColor\":0,\"fFillStyle\":1001,\"fLeftMargin\":0.1,\"fRightMargin\":0.1,\"fBottomMargin\":0.1,\"fTopMargin\":0.1,\"fXfile\":2,\"fYfile\":2,\"fAfile\":1,\"fXstat\":0.99,\"fYstat\":0.99,\"fAstat\":2,\"fFrameFillColor\":0,\"fFrameLineColor\":1,\"fFrameFillStyle\":1001,\"fFrameLineStyle\":1,\"fFrameLineWidth\":1,\"fFrameBorderSize\":1,\"fFrameBorderMode\":0,\"fX1\":-2.93984133943511,\"fY1\":0.557979094265715,\"fX2\":6.7928090296743,\"fY2\":3.2381924689912,\"fXtoAbsPixelk\":210.233593243377,\"fXtoPixelk\":210.233593243377,\"fXtoPixel\":71.5118671280994,\"fYtoAbsPixelk\":570.263171502553,\"fYtoPixelk\":570.263171502553,\"fYtoPixel\":-176.105381926297,\"fUtoAbsPixelk\":5e-5,\"fUtoPixelk\":5e-5,\"fUtoPixel\":696,\"fVtoAbsPixelk\":472.00005,\"fVtoPixelk\":472,\"fVtoPixel\":-472,\"fAbsPixeltoXk\":-2.93984133943511,\"fPixeltoXk\":-2.93984133943511,\"fPixeltoX\":0.0139836930590653,\"fAbsPixeltoYk\":3.2381924689912,\"fPixeltoYk\":0.557979094265715,\"fPixeltoY\":-0.00567841816679128,\"fXlowNDC\":0,\"fYlowNDC\":0,\"fXUpNDC\":0,\"fYUpNDC\":0,\"fWNDC\":1,\"fHNDC\":1,\"fAbsXlowNDC\":0,\"fAbsYlowNDC\":0,\"fAbsWNDC\":1,\"fAbsHNDC\":1,\"fUxmin\":-1.96657624451305,\"fUymin\":0.826000447713581,\"fUxmax\":5.81954393475224,\"fUymax\":2.97017111554333,\"fTheta\":30,\"fPhi\":30,\"fAspectRatio\":0,\"fNumber\":0,\"fTickx\":0,\"fTicky\":0,\"fLogx\":1,\"fLogy\":1,\"fLogz\":0,\"fPadPaint\":0,\"fCrosshair\":0,\"fCrosshairPos\":0,\"fBorderSize\":2,\"fBorderMode\":0,\"fModified\":false,\"fGridx\":false,\"fGridy\":false,\"fAbsCoord\":false,\"fEditable\":true,\"fFixedAspectRatio\":false,\"fPrimitives\":{\"_typename\":\"TList\",\"name\":\"TList\",\"arr\":[{\"_typename\":\"TFrame\",\"fUniqueID\":0,\"fBits\":50331656,\"fLineColor\":1,\"fLineStyle\":1,\"fLineWidth\":1,\"fFillColor\":0,\"fFillStyle\":1001,\"fX1\":-1.96657624451305,\"fY1\":0.826000447713581,\"fX2\":5.81954393475224,\"fY2\":2.97017111554333,\"fBorderSize\":1,\"fBorderMode\":0},{\"_typename\":\"TGraph\",\"fUniqueID\":0,\"fBits\":50332680,\"fName\":\"\",\"fTitle\":\"dE\\/dx(MeV\\/mm) vs. MeV for 12C in water\",\"fLineColor\":416,\"fLineStyle\":1,\"fLineWidth\":1,\"fFillColor\":0,\"fFillStyle\":1000,\"fMarkerColor\":1,\"fMarkerStyle\":1,\"fMarkerSize\":1,\"fNpoints\":269,\"fX\":[0.012,0.024,0.06,0.096,0.12,0.18,0.24,0.3,0.36,0.42,0.48,0.54,0.6,0.66,0.72,0.84,0.96,1.08,1.2,1.44,1.68,1.92,2.16,2.4,3,3.6,4.2,4.8,5.4,6,7.2,8.4,9.6,10.8,12,15,18,21,24,27,30,36,42,48,54,60,66,72,78,84,90,96,102,108,114,120,132,144,156,168,180,192,204,216,228,240,252,264,276,288,300,324,348,372,396,420,456,492,528,564,600,660,720,780,840,900,960,1020,1080,1140,1200,1260,1320,1380,1440,1500,1560,1620,1680,1740,1800,1860,1920,1980,2040,2100,2160,2220,2280,2340,2400,2520,2640,2760,2880,3000,3120,3240,3360,3480,3600,3720,3840,3960,4080,4200,4320,4440,4560,4680,4800,4920,5040,5160,5280,5400,5520,5640,5760,5880,6000,6240,6480,6720,6960,7200,7440,7680,7920,8160,8400,8640,8880,9120,9360,9600,9840,10080,10320,10560,10800,11040,11280,11520,11760,12000,12240,12480,12720,12960,13200,13440,13680,13920,14160,14400,14640,14880,15120,15360,15600,15840,16080,16320,16560,16800,17040,17280,17520,17760,18000,18240,18480,18720,18960,19200,19440,19680,19920,20160,20400,21000,21600,22200,22800,23400,24000,25200,26400,27600,28800,30000,31200,32400,33600,34800,36000,38400,40800,43200,45600,48000,50400,52800,55200,57600,60000,63000,66000,72000,78000,84000,90000,96000,102000,108000,114000,120000,132000,144000,156000,168000,180000,192000,204000,216000,228000,240000,252000,264000,276000,288000,300000,312000,324000,336000,348000,360000,384000,408000,432000,456000,480000,504000,528000,552000,576000,600000,600000],\"fY\":[155.363,159.646,179.938,200.718,213.645,248.136,288.516,327.655,365.648,402.298,437.511,471.196,503.277,533.689,562.389,614.568,659.83,698.802,732.725,784.026,817.718,837.916,846.142,849.424,846.029,847.74,848.969,841.414,831.013,823.666,807.647,789.119,767.947,746.344,724.8,667.852,610.249,561.916,517.165,479.472,447.852,397.147,357.594,325.772,299.52,277.407,258.485,242.09,227.736,215.056,203.771,193.66,184.546,176.288,168.769,163.376,151.957,142.103,133.516,125.965,119.275,113.307,107.949,103.112,98.7226,94.722,91.06,87.6952,84.5924,81.722,79.0586,74.2684,70.0801,66.3859,63.1024,60.1639,56.2918,52.9445,50.0211,47.4449,45.1569,41.8623,39.0827,36.7048,34.6465,32.8468,31.2594,29.8484,28.5856,27.4486,26.4194,25.4832,24.6278,23.8431,23.1205,22.453,21.8345,21.2596,20.724,20.2236,19.7551,19.3156,18.9024,18.5132,18.1459,17.7988,17.4703,17.1588,16.8632,16.5821,16.3146,15.8165,15.3622,14.9463,14.564,14.2115,13.8855,13.583,13.3017,13.0395,12.7944,12.5649,12.3496,12.1472,11.9566,11.7769,11.6071,11.4464,11.2943,11.15,11.013,10.8827,10.7587,10.6405,10.5279,10.4203,10.3176,10.2193,10.1253,10.0353,9.94895,9.78672,9.63708,9.49872,9.37052,9.25148,9.14074,9.03755,8.94122,8.85118,8.7669,8.6879,8.61378,8.54416,8.4787,8.41709,8.35906,8.30436,8.25277,8.20407,8.15808,8.11463,8.07355,8.03471,7.99796,7.96319,7.93028,7.89912,7.86963,7.8417,7.81526,7.79023,7.76652,7.74409,7.72286,7.70278,7.68378,7.66582,7.64885,7.63282,7.61769,7.60343,7.58998,7.57733,7.56542,7.55424,7.54375,7.53392,7.52473,7.51615,7.50815,7.50072,7.49383,7.48746,7.48159,7.47621,7.47129,7.46682,7.46279,7.45917,7.45595,7.44958,7.44545,7.44336,7.44317,7.44472,7.44789,7.45862,7.47453,7.49496,7.51933,7.54716,7.57807,7.61169,7.64774,7.68597,7.72614,7.81159,7.90281,7.99882,8.09883,8.2022,8.30844,8.41713,8.52792,8.64053,8.75472,8.89937,9.04585,9.34326,9.64528,9.95074,10.2588,10.5688,10.8802,11.1928,11.5062,11.8203,12.4496,13.0798,13.7101,14.3402,14.9698,15.5987,16.2267,16.8538,17.48,18.1051,18.7292,19.3522,19.9742,20.5953,21.2153,21.8343,22.4523,23.0694,23.6855,24.3007,25.5284,26.7527,27.9737,29.1916,30.4064,31.6184,32.8276,34.0341,35.2381,36.4397,36.4397],\"fFunctions\":{\"_typename\":\"TList\",\"name\":\"TList\",\"arr\":[],\"opt\":[]},\"fHistogram\":{\"_typename\":\"TH1F\",\"fUniqueID\":0,\"fBits\":50332168,\"fName\":\"Graph\",\"fTitle\":\"dE\\/dx(MeV\\/mm) vs. MeV for 12C in water\",\"fLineColor\":602,\"fLineStyle\":1,\"fLineWidth\":1,\"fFillColor\":0,\"fFillStyle\":1001,\"fMarkerColor\":1,\"fMarkerStyle\":1,\"fMarkerSize\":1,\"fNcells\":271,\"fXaxis\":{\"_typename\":\"TAxis\",\"fUniqueID\":0,\"fBits\":50331648,\"fName\":\"xaxis\",\"fTitle\":\"\",\"fNdivisions\":510,\"fAxisColor\":1,\"fLabelColor\":1,\"fLabelFont\":42,\"fLabelOffset\":0.005,\"fLabelSize\":0.035,\"fTickLength\":0.03,\"fTitleOffset\":1,\"fTitleSize\":0.035,\"fTitleColor\":1,\"fTitleFont\":42,\"fNbins\":269,\"fXmin\":0.0108,\"fXmax\":659999.9988,\"fXbins\":[],\"fFirst\":0,\"fLast\":0,\"fBits2\":0,\"fTimeDisplay\":false,\"fTimeFormat\":\"\",\"fLabels\":null,\"fModLabs\":null},\"fYaxis\":{\"_typename\":\"TAxis\",\"fUniqueID\":0,\"fBits\":50331648,\"fName\":\"yaxis\",\"fTitle\":\"\",\"fNdivisions\":510,\"fAxisColor\":1,\"fLabelColor\":1,\"fLabelFont\":42,\"fLabelOffset\":0.005,\"fLabelSize\":0.035,\"fTickLength\":0.03,\"fTitleOffset\":0,\"fTitleSize\":0.035,\"fTitleColor\":1,\"fTitleFont\":42,\"fNbins\":1,\"fXmin\":6.698853,\"fXmax\":933.622083,\"fXbins\":[],\"fFirst\":0,\"fLast\":0,\"fBits2\":0,\"fTimeDisplay\":false,\"fTimeFormat\":\"\",\"fLabels\":null,\"fModLabs\":null},\"fZaxis\":{\"_typename\":\"TAxis\",\"fUniqueID\":0,\"fBits\":50331648,\"fName\":\"zaxis\",\"fTitle\":\"\",\"fNdivisions\":510,\"fAxisColor\":1,\"fLabelColor\":1,\"fLabelFont\":42,\"fLabelOffset\":0.005,\"fLabelSize\":0.035,\"fTickLength\":0.03,\"fTitleOffset\":1,\"fTitleSize\":0.035,\"fTitleColor\":1,\"fTitleFont\":42,\"fNbins\":1,\"fXmin\":0,\"fXmax\":1,\"fXbins\":[],\"fFirst\":0,\"fLast\":0,\"fBits2\":0,\"fTimeDisplay\":false,\"fTimeFormat\":\"\",\"fLabels\":null,\"fModLabs\":null},\"fBarOffset\":0,\"fBarWidth\":1000,\"fEntries\":0,\"fTsumw\":0,\"fTsumw2\":0,\"fTsumwx\":0,\"fTsumwx2\":0,\"fMaximum\":933.622083,\"fMinimum\":6.698853,\"fNormFactor\":0,\"fContour\":[],\"fSumw2\":[],\"fOption\":\"\",\"fFunctions\":{\"_typename\":\"TList\",\"name\":\"TList\",\"arr\":[],\"opt\":[]},\"fBufferSize\":0,\"fBuffer\":[],\"fBinStatErrOpt\":0,\"fStatOverflows\":2,\"fArray\":[0,0,0,0,0,0,0,0,0,0,0,0,0,0,0,0,0,0,0,0,0,0,0,0,0,0,0,0,0,0,0,0,0,0,0,0,0,0,0,0,0,0,0,0,0,0,0,0,0,0,0,0,0,0,0,0,0,0,0,0,0,0,0,0,0,0,0,0,0,0,0,0,0,0,0,0,0,0,0,0,0,0,0,0,0,0,0,0,0,0,0,0,0,0,0,0,0,0,0,0,0,0,0,0,0,0,0,0,0,0,0,0,0,0,0,0,0,0,0,0,0,0,0,0,0,0,0,0,0,0,0,0,0,0,0,0,0,0,0,0,0,0,0,0,0,0,0,0,0,0,0,0,0,0,0,0,0,0,0,0,0,0,0,0,0,0,0,0,0,0,0,0,0,0,0,0,0,0,0,0,0,0,0,0,0,0,0,0,0,0,0,0,0,0,0,0,0,0,0,0,0,0,0,0,0,0,0,0,0,0,0,0,0,0,0,0,0,0,0,0,0,0,0,0,0,0,0,0,0,0,0,0,0,0,0,0,0,0,0,0,0,0,0,0,0,0,0,0,0,0,0,0,0,0,0,0,0,0,0,0,0,0,0,0,0,0,0,0,0,0,0]},\"fMinimum\":-1111,\"fMaximum\":-1111},{\"_typename\":\"TPaveText\",\"fUniqueID\":0,\"fBits\":50331657,\"fLineColor\":1,\"fLineStyle\":1,\"fLineWidth\":1,\"fFillColor\":0,\"fFillStyle\":0,\"fX1\":-1.4080676017451,\"fY1\":3.06806707349439,\"fX2\":5.2610352919843,\"fY2\":3.22479141489783,\"fX1NDC\":0.157385057471264,\"fY1NDC\":0.936525428497185,\"fX2NDC\":0.842614942528736,\"fY2NDC\":0.995000004768372,\"fBorderSize\":0,\"fInit\":1,\"fShadowColor\":1,\"fCornerRadius\":0,\"fOption\":\"blNDC\",\"fName\":\"title\",\"fTextAngle\":0,\"fTextSize\":0,\"fTextAlign\":22,\"fTextColor\":1,\"fTextFont\":42,\"fLabel\":\"\",\"fLongest\":38,\"fMargin\":0.05,\"fLines\":{\"_typename\":\"TList\",\"name\":\"TList\",\"arr\":[{\"_typename\":\"TLatex\",\"fUniqueID\":0,\"fBits\":50331648,\"fName\":\"\",\"fTitle\":\"dE\\/dx(MeV\\/mm) vs. MeV for 12C in water\",\"fTextAngle\":0,\"fTextSize\":0,\"fTextAlign\":0,\"fTextColor\":0,\"fTextFont\":0,\"fX\":0,\"fY\":0,\"fLineColor\":1,\"fLineStyle\":1,\"fLineWidth\":2,\"fLimitFactorSize\":3,\"fOriginSize\":0.0497033894062042}],\"opt\":[\"\"]}}],\"opt\":[\"\",\"alp\",\"blNDC\"]},\"fExecs\":null,\"fName\":\"c1\",\"fTitle\":\"c1\",\"fNumPaletteColor\":0,\"fNextPaletteColor\":0,\"fDISPLAY\":\"$DISPLAY\",\"fDoubleBuffer\":0,\"fRetained\":true,\"fXsizeUser\":0,\"fYsizeUser\":0,\"fXsizeReal\":20,\"fYsizeReal\":14.28571,\"fWindowTopX\":0,\"fWindowTopY\":0,\"fWindowWidth\":0,\"fWindowHeight\":0,\"fCw\":696,\"fCh\":472,\"fCatt\":{\"_typename\":\"TAttCanvas\",\"fXBetween\":2,\"fYBetween\":2,\"fTitleFromTop\":1.2,\"fXdate\":0.2,\"fYdate\":0.3,\"fAdate\":1},\"kMoveOpaque\":true,\"kResizeOpaque\":true,\"fHighLightColor\":2,\"fBatch\":true,\"kShowEventStatus\":false,\"kAutoExec\":true,\"kMenuBar\":true});\n",
       "       Core.draw(\"root_plot_1\", obj, \"\");\n",
       "     }\n",
       " );\n",
       "</script>\n"
      ],
      "text/plain": [
       "<IPython.core.display.HTML object>"
      ]
     },
     "metadata": {},
     "output_type": "display_data"
    },
    {
     "name": "stdout",
     "output_type": "stream",
     "text": [
      "230.891\n"
     ]
    }
   ],
   "source": [
    "%jsroot on\n",
    "ifstream in(\"12C-water.txt\");//读入LISE软件生成的12C入射到H2O的数据\n",
    "string ss;\n",
    "double a, b, e, dedx;\n",
    "auto *g=new TGraph;//定义新的二维散点图(TGraph) g1\n",
    "TCanvas c;\n",
    "if(in.is_open()){//检查文件是否存在\n",
    "    getline(in,ss);\n",
    "    int i=0;\n",
    "    while(!in.eof())\n",
    "    {\n",
    "      in >> a >> b >> e >> dedx >> a >> b >> a >> b >> a >> b >> a >> b;\n",
    "      // 对照数据文件进行理解。一列一列地读入，提取第3、4列数据。\n",
    "      g->SetPoint(i, e*12,dedx*1000);//添加数据点到图中，能量单位为MeV/u，对C需乘以12.\n",
    "      i++;\n",
    "    }\n",
    "}\n",
    "g->SetTitle(\"dE/dx(MeV/mm) vs. MeV for 12C in water\");//设定图的标题\n",
    "g->SetLineColor(kGreen);\n",
    "g->Draw();\n",
    "gPad->SetLogy();//设定坐标轴为对数坐标轴\n",
    "gPad->SetLogx();\n",
    "c.Draw();\n",
    "in.close();\n",
    "cout<<g->Eval(0.15)<<endl;"
   ]
  },
  {
   "cell_type": "markdown",
   "metadata": {},
   "source": [
    "### 读入SRIM 数据文件 "
   ]
  },
  {
   "cell_type": "code",
   "execution_count": 2,
   "metadata": {},
   "outputs": [
    {
     "data": {
      "text/html": [
       "\n",
       "<div id=\"root_plot_2\"\n",
       "     style=\"width: 696px; height: 472px\">\n",
       "</div>\n",
       "\n",
       "<script>\n",
       " requirejs.config({\n",
       "     paths: {\n",
       "       'JSRootCore' : 'https://root.cern.ch/js/notebook//scripts/JSRootCore',\n",
       "     }\n",
       "   });\n",
       " require(['JSRootCore'],\n",
       "     function(Core) {\n",
       "       var obj = Core.JSONR_unref({\"_typename\":\"TCanvas\",\"fUniqueID\":0,\"fBits\":36896776,\"fLineColor\":1,\"fLineStyle\":1,\"fLineWidth\":1,\"fFillColor\":0,\"fFillStyle\":1001,\"fLeftMargin\":0.1,\"fRightMargin\":0.1,\"fBottomMargin\":0.1,\"fTopMargin\":0.1,\"fXfile\":2,\"fYfile\":2,\"fAfile\":1,\"fXstat\":0.99,\"fYstat\":0.99,\"fAstat\":2,\"fFrameFillColor\":0,\"fFrameLineColor\":1,\"fFrameFillStyle\":1001,\"fFrameLineStyle\":1,\"fFrameLineWidth\":1,\"fFrameBorderSize\":1,\"fFrameBorderMode\":0,\"fX1\":-2.76902255708466,\"fY1\":0.721829954484635,\"fX2\":4.46362767705558,\"fY2\":3.25497484554456,\"fXtoAbsPixelk\":266.463882390758,\"fXtoPixelk\":266.463882390758,\"fXtoPixel\":96.2302859212899,\"fYtoAbsPixelk\":606.498372507794,\"fYtoPixelk\":606.498372507794,\"fYtoPixel\":-186.329649624781,\"fUtoAbsPixelk\":5e-5,\"fUtoPixelk\":5e-5,\"fUtoPixel\":696,\"fVtoAbsPixelk\":472.00005,\"fVtoPixelk\":472,\"fVtoPixel\":-472,\"fAbsPixeltoXk\":-2.76902255708466,\"fPixeltoXk\":-2.76902255708466,\"fPixeltoX\":0.0103917388421555,\"fAbsPixeltoYk\":3.25497484554456,\"fPixeltoYk\":0.721829954484635,\"fPixeltoY\":-0.00536683239631341,\"fXlowNDC\":0,\"fYlowNDC\":0,\"fXUpNDC\":0,\"fYUpNDC\":0,\"fWNDC\":1,\"fHNDC\":1,\"fAbsXlowNDC\":0,\"fAbsYlowNDC\":0,\"fAbsWNDC\":1,\"fAbsHNDC\":1,\"fUxmin\":-2.04575749056068,\"fUymin\":0.975144458689349,\"fUxmax\":3.7403626105316,\"fUymax\":3.00166034133985,\"fTheta\":30,\"fPhi\":30,\"fAspectRatio\":0,\"fNumber\":0,\"fTickx\":0,\"fTicky\":0,\"fLogx\":1,\"fLogy\":1,\"fLogz\":0,\"fPadPaint\":0,\"fCrosshair\":0,\"fCrosshairPos\":0,\"fBorderSize\":2,\"fBorderMode\":0,\"fModified\":false,\"fGridx\":false,\"fGridy\":false,\"fAbsCoord\":false,\"fEditable\":true,\"fFixedAspectRatio\":false,\"fPrimitives\":{\"_typename\":\"TList\",\"name\":\"TList\",\"arr\":[{\"_typename\":\"TFrame\",\"fUniqueID\":0,\"fBits\":50331656,\"fLineColor\":1,\"fLineStyle\":1,\"fLineWidth\":1,\"fFillColor\":0,\"fFillStyle\":1001,\"fX1\":-2.04575749056068,\"fY1\":0.975144458689349,\"fX2\":3.7403626105316,\"fY2\":3.00166034133985,\"fBorderSize\":1,\"fBorderMode\":0},{\"_typename\":\"TGraph\",\"fUniqueID\":0,\"fBits\":50332680,\"fName\":\"\",\"fTitle\":\"\",\"fLineColor\":416,\"fLineStyle\":1,\"fLineWidth\":1,\"fFillColor\":0,\"fFillStyle\":1000,\"fMarkerColor\":1,\"fMarkerStyle\":1,\"fMarkerSize\":1,\"fNpoints\":150,\"fX\":[0.01,0.011,0.012,0.013,0.014,0.015,0.016,0.017,0.018,0.02,0.0225,0.025,0.0275,0.03,0.0325,0.035,0.0375,0.04,0.045,0.05,0.055,0.06,0.065,0.07,0.08,0.09,0.1,0.11,0.12,0.13,0.14,0.15,0.16,0.17,0.18,0.2,0.225,0.25,0.275,0.3,0.325,0.35,0.375,0.4,0.45,0.5,0.55,0.6,0.65,0.7,0.8,0.9,1,1.1,1.2,1.3,1.4,1.5,1.6,1.7,1.8,2,2.25,2.5,2.75,3,3.25,3.5,3.75,4,4.5,5,5.5,6,6.5,7,8,9,10,11,12,13,14,15,16,17,18,20,22.5,25,27.5,30,32.5,35,37.5,40,45,50,55,60,65,70,80,90,100,110,120,130,140,150,160,170,180,200,225,250,275,300,325,350,375,400,450,500,550,600,650,700,800,900,1000,1100,1200,1300,1400,1500,1600,1700,1800,2000,2250,2500,2750,3000,3250,3500,3750,4000,4500,5000],\"fY\":[140.44,140.47,140.53,140.61,140.73,140.88,141.07,141.29,141.54,142.13,143.02,144.64,146.68,148.19,149.35,150.27,151.04,151.69,152.97,154.16,155.49,156.99,158.61,160.32,164.21,168.47,173.1,177.91,182.95,188.08,193.26,198.46,203.77,208.98,214.16,224.53,237.22,249.56,261.6,273.17,284.57,295.56,306.34,316.87,337.21,356.808,375.833,394.254,412.153,429.813,463.878,496.686,528.398,558.789,587.839,615.538,641.874,666.642,689.936,711.751,731.985,768.197,805.602,835.36,858.558,876.286,889.639,899.21,905.897,910.297,913.527,911.489,905.973,897.775,887.791,876.518,851.2976,824.4017,797.2236,770.5586,744.7037,719.9565,696.4157,674.1799,653.1482,633.2201,614.4948,580.1513,542.3071,513.9712,492.4414,467.7162,443.3947,421.8761,402.7598,385.5454,356.0211,331.3014,310.385,292.2712,276.3595,262.3493,238.3325,218.5193,201.7085,187.29965,174.59217,163.38578,153.48025,144.57542,136.47116,129.16738,122.564,111.15819,99.44232,90.10756,82.66363,76.78032,72.1975,68.71506,65.36293,61.99106,56.2979,51.66535,47.82324,44.58147,41.80996,39.40865,35.44651,32.32482,29.79346,27.69233,25.93139,24.42058,23.119884,21.989277,20.988743,20.098269,19.307845,17.95712,16.586388,15.485797,14.585309,13.824899,13.18455,12.634249,12.153986,11.743756,11.043368,10.493055],\"fFunctions\":{\"_typename\":\"TList\",\"name\":\"TList\",\"arr\":[],\"opt\":[]},\"fHistogram\":{\"_typename\":\"TH1F\",\"fUniqueID\":0,\"fBits\":50332168,\"fName\":\"Graph\",\"fTitle\":\"\",\"fLineColor\":602,\"fLineStyle\":1,\"fLineWidth\":1,\"fFillColor\":0,\"fFillStyle\":1001,\"fMarkerColor\":1,\"fMarkerStyle\":1,\"fMarkerSize\":1,\"fNcells\":152,\"fXaxis\":{\"_typename\":\"TAxis\",\"fUniqueID\":0,\"fBits\":50331648,\"fName\":\"xaxis\",\"fTitle\":\"\",\"fNdivisions\":510,\"fAxisColor\":1,\"fLabelColor\":1,\"fLabelFont\":42,\"fLabelOffset\":0.005,\"fLabelSize\":0.035,\"fTickLength\":0.03,\"fTitleOffset\":1,\"fTitleSize\":0.035,\"fTitleColor\":1,\"fTitleFont\":42,\"fNbins\":150,\"fXmin\":0.009,\"fXmax\":5499.999,\"fXbins\":[],\"fFirst\":0,\"fLast\":0,\"fBits2\":0,\"fTimeDisplay\":false,\"fTimeFormat\":\"\",\"fLabels\":null,\"fModLabs\":null},\"fYaxis\":{\"_typename\":\"TAxis\",\"fUniqueID\":0,\"fBits\":50331648,\"fName\":\"yaxis\",\"fTitle\":\"\",\"fNdivisions\":510,\"fAxisColor\":1,\"fLabelColor\":1,\"fLabelFont\":42,\"fLabelOffset\":0.005,\"fLabelSize\":0.035,\"fTickLength\":0.03,\"fTitleOffset\":0,\"fTitleSize\":0.035,\"fTitleColor\":1,\"fTitleFont\":42,\"fNbins\":1,\"fXmin\":9.4437495,\"fXmax\":1003.8303945,\"fXbins\":[],\"fFirst\":0,\"fLast\":0,\"fBits2\":0,\"fTimeDisplay\":false,\"fTimeFormat\":\"\",\"fLabels\":null,\"fModLabs\":null},\"fZaxis\":{\"_typename\":\"TAxis\",\"fUniqueID\":0,\"fBits\":50331648,\"fName\":\"zaxis\",\"fTitle\":\"\",\"fNdivisions\":510,\"fAxisColor\":1,\"fLabelColor\":1,\"fLabelFont\":42,\"fLabelOffset\":0.005,\"fLabelSize\":0.035,\"fTickLength\":0.03,\"fTitleOffset\":1,\"fTitleSize\":0.035,\"fTitleColor\":1,\"fTitleFont\":42,\"fNbins\":1,\"fXmin\":0,\"fXmax\":1,\"fXbins\":[],\"fFirst\":0,\"fLast\":0,\"fBits2\":0,\"fTimeDisplay\":false,\"fTimeFormat\":\"\",\"fLabels\":null,\"fModLabs\":null},\"fBarOffset\":0,\"fBarWidth\":1000,\"fEntries\":0,\"fTsumw\":0,\"fTsumw2\":0,\"fTsumwx\":0,\"fTsumwx2\":0,\"fMaximum\":1003.8303945,\"fMinimum\":9.4437495,\"fNormFactor\":0,\"fContour\":[],\"fSumw2\":[],\"fOption\":\"\",\"fFunctions\":{\"_typename\":\"TList\",\"name\":\"TList\",\"arr\":[],\"opt\":[]},\"fBufferSize\":0,\"fBuffer\":[],\"fBinStatErrOpt\":0,\"fStatOverflows\":2,\"fArray\":[0,0,0,0,0,0,0,0,0,0,0,0,0,0,0,0,0,0,0,0,0,0,0,0,0,0,0,0,0,0,0,0,0,0,0,0,0,0,0,0,0,0,0,0,0,0,0,0,0,0,0,0,0,0,0,0,0,0,0,0,0,0,0,0,0,0,0,0,0,0,0,0,0,0,0,0,0,0,0,0,0,0,0,0,0,0,0,0,0,0,0,0,0,0,0,0,0,0,0,0,0,0,0,0,0,0,0,0,0,0,0,0,0,0,0,0,0,0,0,0,0,0,0,0,0,0,0,0,0,0,0,0,0,0,0,0,0,0,0,0,0,0,0,0,0,0,0,0,0,0,0,0]},\"fMinimum\":-1111,\"fMaximum\":-1111}],\"opt\":[\"\",\"alp\"]},\"fExecs\":null,\"fName\":\"c1_n2\",\"fTitle\":\"c1_n2\",\"fNumPaletteColor\":0,\"fNextPaletteColor\":0,\"fDISPLAY\":\"$DISPLAY\",\"fDoubleBuffer\":0,\"fRetained\":true,\"fXsizeUser\":0,\"fYsizeUser\":0,\"fXsizeReal\":20,\"fYsizeReal\":14.28571,\"fWindowTopX\":0,\"fWindowTopY\":0,\"fWindowWidth\":0,\"fWindowHeight\":0,\"fCw\":696,\"fCh\":472,\"fCatt\":{\"_typename\":\"TAttCanvas\",\"fXBetween\":2,\"fYBetween\":2,\"fTitleFromTop\":1.2,\"fXdate\":0.2,\"fYdate\":0.3,\"fAdate\":1},\"kMoveOpaque\":true,\"kResizeOpaque\":true,\"fHighLightColor\":2,\"fBatch\":true,\"kShowEventStatus\":false,\"kAutoExec\":true,\"kMenuBar\":true});\n",
       "       Core.draw(\"root_plot_2\", obj, \"\");\n",
       "     }\n",
       " );\n",
       "</script>\n"
      ],
      "text/plain": [
       "<IPython.core.display.HTML object>"
      ]
     },
     "metadata": {},
     "output_type": "display_data"
    },
    {
     "name": "stdout",
     "output_type": "stream",
     "text": [
      "198.46\n"
     ]
    }
   ],
   "source": [
    "string sunit;\n",
    "double ededx, ndedx;//ededx-电子阻止本领，ndedx-核阻止本领\n",
    "ifstream in1(\"12C-water-srim.txt\");//读入Srim2013程序生成的12C入射H2O的输出文件\n",
    "TCanvas c1;\n",
    "auto *g1=new TGraph; \n",
    "\n",
    "if(in1.is_open()){\n",
    "    for(int j=0;j<24;j++) getline(in1,ss);//读入文件中开始的24行描述性文本\n",
    "    int i=0;\n",
    "    while(i<174-24)//数据位于25-174行\n",
    "    {\n",
    "      in1 >> e >> sunit >> ededx >> ndedx >> a >> ss >> a >> ss >> a >> ss;\n",
    "      if(sunit==\"keV\") e /=1e3;\n",
    "      if(sunit==\"GeV\") e *= 1e3;\n",
    "      g1->SetPoint(i, e, ededx+ndedx);//在g1中加入点, 参考TGraph class reference 中 SetPoint()函数用法\n",
    "      i++;\n",
    "    }\n",
    "}\n",
    "in1.close();\n",
    "g1->SetLineColor(kGreen);//设置g1显示线的颜色为绿色\n",
    "g1->Draw();//画g1图\n",
    "gPad->SetLogx();//设置画布的x轴为logx\n",
    "gPad->SetLogy();\n",
    "c1.Draw();//画图\n",
    "in1.close();\n",
    "cout<<g1->Eval(0.15)<<endl;"
   ]
  },
  {
   "cell_type": "markdown",
   "metadata": {},
   "source": [
    "### 提示：TGraph的插值函数 Eval()用法简介\n",
    "观察数据文件可知软件中给出的数据点不是连续的。此时得到任意点$x_0$的数据的一般方法是用某种函数$y=f(x)$将数据点进行拟合，得到$f(x_0)$。ROOT的TGraph提供了一种方便的做法：Eval。Eval(x,0,\"\"),将x点附近的数据点用直线方程 $y=kx+b$拟合后，内插得到x点的数据。当点的间隔比较大的时候线性假设并不成立，Eval(x,0,\"S\"),将x点附近的数据点用样条曲线spline拟合，可更准确地描述数据的变化。\n",
    "```cpp\n",
    "Double_t TGraph::Eval(Double_t x,TSpline *spline = 0,Option_t *option = \"\")\n",
    "```\n",
    "```txt\n",
    "Interpolate points in this graph at x using a TSpline.\n",
    "if spline==0 and option=\"\" a linear interpolation between the two points close to x is computed. If x is outside the graph range, a linear extrapolation is computed.\n",
    "if spline==0 and option=\"S\" a TSpline3 object is created using this graph and the interpolated value from the spline is returned. the internally created spline is deleted on return.\n",
    "if spline is specified, it is used to return the interpolated value.\n",
    "\n",
    "If the points are sorted in X a binary search is used (significantly faster) One needs to set the bit TGraph::SetBit(TGraph::kIsSortedX) before calling TGraph::Eval to indicate that the graph is sorted in X.\n",
    "\n",
    "Definition at line 863 of file TGraph.cxx.\n",
    "```\n",
    "对于TGraph中“空”的数据点，可以通过插值获得，比如5.1MeV/u的C12在数据文件中不存在，可通过Eval插值获得。插值分为线性插值和非线性插值。两者差异不大，用法可参考上面文档。"
   ]
  },
  {
   "cell_type": "code",
   "execution_count": null,
   "metadata": {},
   "outputs": [],
   "source": []
  }
 ],
 "metadata": {
  "kernelspec": {
   "display_name": "ROOT C++",
   "language": "c++",
   "name": "root"
  },
  "language_info": {
   "codemirror_mode": "text/x-c++src",
   "file_extension": ".C",
   "mimetype": " text/x-c++src",
   "name": "c++"
  }
 },
 "nbformat": 4,
 "nbformat_minor": 2
}
