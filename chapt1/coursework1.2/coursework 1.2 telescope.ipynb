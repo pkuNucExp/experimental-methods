{
 "cells": [
  {
   "cell_type": "markdown",
   "metadata": {},
   "source": [
    "\n",
    "\n",
    "## 作业 1.2 望远镜法带电粒子鉴别\n",
    "\n",
    "### 条件：\n",
    "厚度分别为$142\\mu m, 40\\mu m, 304 \\mu m$的三块Si探测器(s0e,s1e,s2e)组成的望远镜系统对束流线上的带电粒子进行粒子鉴别。粒子种类：第一组： $^{1,2,3}H, ^{4,4,6,}He, ^{7,8,9}Li, ^{7,9,10}Be, ^{17,19,20}B$ ； 第二组： $^{20,21,22}Ne, ^{20,21,22}Na, ^{21,22,23}Mg, ^{22,23}Al, ^{22,23,24}Si$ ； 能量范围：0-400MeV。\n",
    "\n",
    "### 要求：\n",
    "1. 画出s0e:s1e, s1e:s2e, s0e:s0e+s1e+s2e, s0e*(s0e+s1e+s2e)的图，第一组内所有粒子画在同一张图上，第二组内所有粒子画在另一张图上。\n",
    "2. 模拟结果与实验数据进行对比，并对谱中主要特征做出解释。\n",
    "\n",
    "### 提示：\n",
    "1. 能量用随机分布函数抽样得到。\n",
    "2. 从LISE++或SRIM2013中获取 dE/dx-dE 数据，具体做法参见作业1.1的提示部分。\n",
    "3. 写出思路和中间过程，结果以及分析。\n",
    "4. 编程语言不限，但推荐利用 ROOT平台 + C++编程，也可以用Matlab\n",
    "5. 本次作业结果将在第二章扩展为模拟探测器能量分辨率的作业。\n",
    "6. 所需时间：>10 hours\n",
    "\n",
    "### 期限：\n",
    "1. 本作业至发布之日限期两周。\n",
    "\n"
   ]
  },
  {
   "cell_type": "code",
   "execution_count": null,
   "metadata": {},
   "outputs": [],
   "source": []
  }
 ],
 "metadata": {
  "kernelspec": {
   "display_name": "ROOT C++",
   "language": "c++",
   "name": "root"
  },
  "language_info": {
   "codemirror_mode": "text/x-c++src",
   "file_extension": ".C",
   "mimetype": " text/x-c++src",
   "name": "c++"
  }
 },
 "nbformat": 4,
 "nbformat_minor": 2
}
