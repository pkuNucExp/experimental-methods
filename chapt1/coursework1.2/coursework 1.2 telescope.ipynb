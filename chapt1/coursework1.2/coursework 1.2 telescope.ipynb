version https://git-lfs.github.com/spec/v1
oid sha256:5744a001c2e2a79a28512ed9674c867cae74d5e8b7240fadfc3ed4122cc6c0bb
size 1893
