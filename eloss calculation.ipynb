{
 "cells": [
  {
   "cell_type": "markdown",
   "metadata": {},
   "source": [
    "## 带电粒子能量损失(射程)计算\n",
    "### LISE++ \n",
    "* LISE++ 主要用于计算放射性束流线中次级带电粒子碎片生成，传输。该软件还集成了很多与核物理实验相关的有用的工具。\n",
    "* LISE++ 安装 [下载链接](http://lise.nscl.msu.edu/download/)\n",
    "* LISE++ 界面 ![](LISE++.png)\n",
    "* 获得dE/dx-dE数据步骤：\n",
    "  * 从菜单栏中进入dE/dx vs E 选项卡\n",
    "    ![](step1.png)\n",
    "  * 设定注入粒子(H,He,Na,Mg...)和靶材料(探测器材料)，单位选择micron(um).\n",
    "    ![](step2.png)\n",
    "  * 点击 OK 即可获得能损曲线。在我们感兴趣的能量范围0.1MeV-1000MeV内，几条曲线结果基本一致。在本课程作业中选取曲线2。\n",
    "    ![](step3.png)\n",
    "  * 按左侧边栏图标可以改变图形显示方式，点击Save As 图标保存数据文件。\n",
    "    ![](step4.3.png)\n",
    "  * 最终获得数据文件如下：[示例数据文件](datalise.txt)\n",
    "    ![](step5.png)\n",
    "    \n",
    "### SRIM：\n",
    "* SRIM 软件用于计算带电粒子在材料中的射程，同时也给出相应能量下的dE/dx数值。dE/dx计算结果与LISE++计算中的曲线1对应。\n",
    "* [SRIM官网](http://www.srim.org)\n",
    "* SRIM有两个版本，SRIM2008和SRIM2013，直接安装SRIM2013会提示系统库缺失。正确做法为先安装SRIM2008，随后卸载(卸载过程中提示是否移除相关组件，选否)。然后安装SRIM2013。注意：官网下载由于安全考虑，将exe后缀修改为了e后缀，需手动修改方可安装。\n",
    "* SRIM界面\n",
    "  ![](SRIM.png)\n",
    "* 获得dE/dx-dE数据步骤：\n",
    "  * 进入Stoping Range Table选项卡\n",
    "  ![](SR.png)\n",
    "  * 设定注入离子和靶材料。点击PT可进入元素周期表选择，可手动修改Mass(amu)以修改默认同位素，可修改注入粒子能量区间。\n",
    "  ![](SR1.png)\n",
    "  * 点击Calculate Table，获得数据文件.[示例数据文件](datasrim.txt)\n",
    "  ![](datasrim.png)\n",
    " "
   ]
  },
  {
   "cell_type": "markdown",
   "metadata": {},
   "source": [
    "## Tips\n",
    "1. 上述两个软件的能量点的间隔是软件设定的，用户不能更改。其他点的dE/dx应通过已知数据点的内插得到，或用公式对已知数据点进行拟合，再利用公式计算其他能量点的dE/dx 数字。\n",
    "\n",
    "## Q&A\n",
    "1. 为什么不直接应用bethe-bloch公式计算能损？\n",
    "\n",
    "bethe-bloch公式中shell-correction部分不能用简单的解析表达式表述，而这部分在能量较低时对能损的影响显著。感兴趣的同学可以参阅SRIM官网[相关部分的介绍](http://www.srim.org/SRIM/SRIMPICS/THEORYCOMPONENTS.htm)\n",
    "![](srimbethe.png)\n",
    "\n",
    "忽略Bethe-Bloch公式中后两项 $\\delta-c/Z$获得的dE-dx:E分布(红线)与LISE++给出的分布(蓝线)差异。其中横坐标单位为MeV/u,纵坐标单位为MeV/um。注入核为$^{20}\\rm{Na}$，探测器为Si探测器。可以看出，能量大于10MeV/u即200MeV的$^{20}\\rm{Na}$与LISE++计算结果一致，而能量小于这个值得计算结果偏差较大。\n",
    "![](vs.png)\n"
   ]
  },
  {
   "cell_type": "code",
   "execution_count": null,
   "metadata": {},
   "outputs": [],
   "source": []
  }
 ],
 "metadata": {
  "kernelspec": {
   "display_name": "ROOT C++",
   "language": "c++",
   "name": "root"
  },
  "language_info": {
   "codemirror_mode": "text/x-c++src",
   "file_extension": ".C",
   "mimetype": " text/x-c++src",
   "name": "c++"
  }
 },
 "nbformat": 4,
 "nbformat_minor": 2
}
