{
 "cells": [
  {
   "cell_type": "markdown",
   "metadata": {},
   "source": [
    "# 作业 1.望远镜法带电粒子鉴别\n",
    "\n",
    "## Part 1. 对比不同入射粒子的布拉格峰差异\n",
    "对于特定能量如20MeV，作出质子和alpha粒子在人体内dE/dx:x的图，对比其布拉格峰的差异。人体组织近似用水替代即可。\n",
    "\n",
    "## Part 2. 使用望远镜系统进行粒子鉴别\n",
    "厚度分别为$142\\mu m, 40\\mu m, 304 \\mu m$的三块Si探测器(s0e,s1e,s2e)组成的望远镜系统对束流线上的带电粒子进行粒子鉴别。粒子种类：第一组： $^{1,2,3}H, ^{4,4,6,}He, ^{7,8,9}Li, ^{7,9,10}Be, ^{17,19,20}B$ ； 第二组： $^{20,21,22}Ne, ^{20,21,22}Na, ^{21,22,23}Mg, ^{22,23}Al, ^{22,23,24}Si$ ； 能量范围：0-400MeV。\n",
    "\n",
    "1. 画出s0e:s1e, s1e:s2e, s0e:s0e+s1e+s2e, s0e*(s0e+s1e+s2e)的图，第一组内所有粒子画在同一张图上，第二组内所有粒子画在另一张图上。\n",
    "2. 模拟结果与实验数据进行对比，并对谱中主要特征做出解释。\n",
    "\n",
    "## 提示：\n",
    "1. 能量用随机分布函数抽样得到。\n",
    "2. 能量损失从LISE++或SRIM2013中获取 dE/dx-dE 数据，进行拟合获得dE/dx-E函数。\n",
    "3. 可认为一定步长内(如1um)dE/dx为定值\n",
    "4. dE/dx 依赖于E， 而粒子在注入过程中E不断变化，模拟中要考虑这个因素。\n",
    "5. 写出思路和中间过程，结果以及分析。\n",
    "6. 编程语言不限，但推荐利用 ROOT平台 + C++编程，也可以用Matlab,Python等。\n",
    "7. 本次作业结果将在第二章扩展为模拟探测器能量分辨率的作业。\n",
    "8. 所需时间：>10 hours\n",
    "\n",
    "## 注意事项：\n",
    "1. 直接抄袭他人代码者记零分。\n",
    "2. 提交可运行代码，分析过程与结果。\n",
    "3. 经助教批改后，根据批改意见进行修改，可多次提交。成绩以最后一次提交结果评判。\n",
    "4. 本作业至发布之日限期两周。\n",
    "\n"
   ]
  },
  {
   "cell_type": "markdown",
   "metadata": {},
   "source": [
    "### 补充：\n",
    "#### LISE++相关教程\n",
    "* LISE++ 安装 [下载链接](http://lise.nscl.msu.edu/download/LISE++_10_1_107.exe)\n",
    "* LISE++ 界面 ![](LISE++.png)\n",
    "* 获得dE/dx-dE数据步骤：\n",
    "  * 从菜单栏中进入dE-dx-dE选项卡\n",
    "    ![](step1.png)\n",
    "  * 设定注入粒子(H,He,Na,Mg...)和靶材料(默认Si即可)，单位选择micron(um).\n",
    "    ![](step2.png)\n",
    "  * 点击确定即可获得能损曲线\n",
    "    ![](step3.png)\n",
    "  * 左侧边栏可以进行相关设置，其中4，6，9分别为调整坐标轴范围，log/linear坐标设置，保存数据文件。\n",
    "    ![](step4.png) ![](step4.1.png) ![](step4.2.png) ![](step4.3.png)\n",
    "  * 最终获得数据文件如下：[示例数据文件](datalise.txt)\n",
    "    ![](step5.png)\n",
    "#### SRIM相关教程：\n",
    "* [SRIM官网](http://www.srim.org)\n",
    "* SRIM有两个版本，SRIM2008和SRIM2013，直接安装SRIM2013会提示系统库缺失。正确做法为先安装SRIM2008，随后卸载(卸载过程中提示是否移除相关组件，选否)。然后安装SRIM2013。注意：官网下载由于安全考虑，将exe后缀修改为了e后缀，需手动修改方可安装。\n",
    "* SRIM界面\n",
    "  ![](SRIM.png)\n",
    "* 获得dE/dx-dE数据步骤：\n",
    "  * 进入Stoping Range Table选项卡\n",
    "  ![](SR.png)\n",
    "  * 设定注入离子和靶材料。点击PT可进入元素周期表选择，可手动修改Mass(amu)以修改默认同位素，可修改注入粒子能量区间。\n",
    "  ![](SR1.png)\n",
    "  * 点击Calculate Table，获得数据文件.[示例数据文件](datasrim.txt)\n",
    "  ![](datasrim.png)\n",
    " "
   ]
  },
  {
   "cell_type": "markdown",
   "metadata": {},
   "source": [
    "## Q&&A\n",
    "1. 为什么不直接应用bethe-bloch公式计算能损？\n",
    "\n",
    "bethe-bloch公式中shell-correction部分不能用简单的解析表达式表述，而这部分在能量较低时对能损的影响显著。感兴趣的同学可以参阅SRIM官网[相关部分的介绍](http://www.srim.org/SRIM/SRIMPICS/THEORYCOMPONENTS.htm)\n",
    "![](SRIMBethe.gif)\n",
    "\n",
    "忽略Bethe-Bloch公式中后两项 $\\delta-c/Z$获得的dE-dx:E分布(红线)与LISE++给出的分布(蓝线)差异。其中横坐标单位为MeV/u,纵坐标单位为MeV/um。注入核为$^{20}\\rm{Na}$。\n",
    "![](vs.png)\n",
    "可以看出，能量大于10MeV/u即200MeV的$^{20}\\rm{Na}$与LISE++计算结果一致，而能量小于这个值得计算结果偏差较大。"
   ]
  }
 ],
 "metadata": {
  "kernelspec": {
   "display_name": "ROOT C++",
   "language": "c++",
   "name": "root"
  },
  "language_info": {
   "codemirror_mode": "text/x-c++src",
   "file_extension": ".C",
   "mimetype": " text/x-c++src",
   "name": "c++"
  }
 },
 "nbformat": 4,
 "nbformat_minor": 2
}
