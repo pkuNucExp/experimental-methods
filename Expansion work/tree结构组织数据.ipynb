{
 "cells": [
  {
   "cell_type": "markdown",
   "metadata": {},
   "source": [
    "## 使用tree结构组织数据"
   ]
  },
  {
   "cell_type": "markdown",
   "metadata": {},
   "source": [
    "``` cpp\n",
    "\n",
    "\n",
    "// tree.cc\n",
    "\n",
    "// usage:\n",
    "// root\n",
    "// .L tree.cc\n",
    "// tree(\"random.root\")\n",
    "void tree(TString fname){\n",
    "  TFile *opf=new TFile(fname,\"recreate\");\n",
    "  TTree *opt=new TTree(\"tree\",\"tree structure\");\n",
    "  // 在tree结构中定义需要的变量分支\n",
    "  Double_t b1;\n",
    "  Double_t b2[2];\n",
    "  // 将变量分支添加到tree结构中,第一个参数为变量名称，第二个为上面定义的变量地址，第三个为变量的类型说明，D表示Double_t。\n",
    "  opt->Branch(\"b1\",&b1,\"b1/D\");\n",
    "  opt->Branch(\"b2\",b2,\"b2[2]/D\");\n",
    "\n",
    "  TRandom *gr=new TRandom(0);\n",
    "  // 循环，逐事件往tree结构里添加对应分支信息。\n",
    "  for(int i=0;i<1000000;i++){\n",
    "    b1=gr->Gaus(100,2);\n",
    "    b2[0]=gr->Uniform(-100,100);\n",
    "    b2[1]=gr->Gaus(-20,2)+gr->Exp(10);\n",
    "    opt->Fill();\n",
    "  }\n",
    "  // 将数据写入root文件中\n",
    "  opt->Write();\n",
    "  opf->Close();\n",
    "}\n",
    "```"
   ]
  }
 ],
 "metadata": {
  "kernelspec": {
   "display_name": "Python 3",
   "language": "python",
   "name": "python3"
  },
  "language_info": {
   "codemirror_mode": {
    "name": "ipython",
    "version": 3
   },
   "file_extension": ".py",
   "mimetype": "text/x-python",
   "name": "python",
   "nbconvert_exporter": "python",
   "pygments_lexer": "ipython3",
   "version": "3.6.7"
  }
 },
 "nbformat": 4,
 "nbformat_minor": 2
}
