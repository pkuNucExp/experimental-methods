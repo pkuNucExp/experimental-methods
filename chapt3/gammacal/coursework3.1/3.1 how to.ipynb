{
 "cells": [
  {
   "cell_type": "markdown",
   "metadata": {},
   "source": [
    "## 1. 用gauss拟合得到峰位和sigma"
   ]
  },
  {
   "cell_type": "code",
   "execution_count": 1,
   "metadata": {},
   "outputs": [
    {
     "name": "stdout",
     "output_type": "stream",
     "text": [
      "TFile**\t\tgamma.root\t\n",
      " TFile*\t\tgamma.root\t\n",
      "  KEY: TH1F\th0;1\tGamma Spectrum\n"
     ]
    }
   ],
   "source": [
    "TFile *f=new TFile(\"gamma.root\");\n",
    "f->ls();"
   ]
  },
  {
   "cell_type": "code",
   "execution_count": 2,
   "metadata": {},
   "outputs": [
    {
     "data": {
      "image/png": "[encoded data removed]",
      "text/plain": [
       "<IPython.core.display.Image object>"
      ]
     },
     "metadata": {},
     "output_type": "display_data"
    }
   ],
   "source": [
    "TCanvas c1;\n",
    "h0->Draw();\n",
    "c1.Draw();"
   ]
  },
  {
   "cell_type": "code",
   "execution_count": 3,
   "metadata": {},
   "outputs": [],
   "source": [
    "f->Close();"
   ]
  },
  {
   "cell_type": "markdown",
   "metadata": {},
   "source": [
    "上图为gamma谱，其中横轴为道址，纵轴为计数。进行刻度时参照作业给出的Eu152能谱，查找到对应峰位进行刻度。"
   ]
  },
  {
   "cell_type": "markdown",
   "metadata": {},
   "source": [
    "为获得gamma峰峰位，需要进行拟合操作。在终端执行`root gamma.root`命令，随后`h0->Draw()`，即可获得上述未刻度的gamma谱。"
   ]
  },
  {
   "cell_type": "markdown",
   "metadata": {},
   "source": [
    "![](1.png)"
   ]
  },
  {
   "cell_type": "markdown",
   "metadata": {},
   "source": [
    "以330-335道附近的峰为例，演示下如何用root拟合峰位。\n",
    "![](2.png)"
   ]
  },
  {
   "cell_type": "markdown",
   "metadata": {},
   "source": [
    "鼠标悬浮于放在峰位上，右键选择fitpanel。![](3.png) 出现fitpanel![](4.png)"
   ]
  },
  {
   "cell_type": "markdown",
   "metadata": {},
   "source": [
    "选择默认的gaus拟合即可。拖动下方滑块选择合适的拟合区间。随后点击fit即可完成拟合。![](5.png)"
   ]
  },
  {
   "cell_type": "markdown",
   "metadata": {},
   "source": [
    "可在终端中查看拟合参数![](6.png)也可点击菜单栏 Options->Fit Parameters进行查看。![](7.png)"
   ]
  },
  {
   "cell_type": "markdown",
   "metadata": {},
   "source": [
    "从而可以获得峰位及误差信息。这里需要留意，选取合适的拟合区间对于峰位的确认至关重要。上图中可适当再次缩小拟合区间，以获得更好的效果。![](8.png)"
   ]
  },
  {
   "cell_type": "markdown",
   "metadata": {},
   "source": [
    "此时再从能谱中找出对应的能量，即可获得一组数据点。半宽可直接通过拟合获得的sigma获得。"
   ]
  },
  {
   "cell_type": "markdown",
   "metadata": {},
   "source": [
    "## 2. 将数据填入TGraphErrors进行拟合。\n",
    "第一章的作业中用到的TGraph，用来表达没有误差的二维数据点的分布。当数据有误差时需要用TGraphErrors，如以上拟合得到的峰位值有sigma值。仿照下面链接[TGraphErrors Class Reference](https://root.cern.ch/doc/master/classTGraphErrors.html)的做法，将数据填入TGraphErrors,并画图。152Eu的能量值[keV]的误差全部设置为0.\n",
    "将鼠标指针悬浮于图上的一个点上，点击右键选择fitpanel，在fitfunction栏中选择p3(三次多项式)，进行拟合得到拟合系数。\n",
    "\n",
    "关于ROOT fit的更详细用法参考以下链接[FittingHistograms](https://root.cern.ch/root/htmldoc/guides/users-guide/FittingHistograms.html)"
   ]
  },
  {
   "cell_type": "code",
   "execution_count": null,
   "metadata": {},
   "outputs": [],
   "source": []
  }
 ],
 "metadata": {
  "kernelspec": {
   "display_name": "ROOT C++",
   "language": "c++",
   "name": "root"
  },
  "language_info": {
   "codemirror_mode": "text/x-c++src",
   "file_extension": ".C",
   "mimetype": " text/x-c++src",
   "name": "c++"
  }
 },
 "nbformat": 4,
 "nbformat_minor": 2
}
