{
 "cells": [
  {
   "cell_type": "markdown",
   "metadata": {},
   "source": [
    "## 1. 用gauss拟合得到峰位和峰位误差"
   ]
  },
  {
   "cell_type": "markdown",
   "metadata": {},
   "source": [
    "按照下图图示，运行命令\n",
    "![](com1.png)"
   ]
  },
  {
   "cell_type": "markdown",
   "metadata": {},
   "source": [
    "\n",
    "\n"
   ]
  },
  {
   "cell_type": "markdown",
   "metadata": {},
   "source": [
    "执行`h0->Draw()`，按照下图图示，在左侧空白处点击鼠标右键，在弹出菜单中选择`SetLogy`将y轴由线性坐标改成指数坐标，\n",
    "![](2a.png)"
   ]
  },
  {
   "cell_type": "markdown",
   "metadata": {},
   "source": [
    "可得到\n",
    "![](0.png)\n",
    "\n",
    "上图为未刻度的gamma谱，其中横轴为道址，纵轴为计数。进行刻度时参照刻度方法中给出的$^{152}Eu$和$^{133}Ba$能谱，查找到对应峰位进行刻度。"
   ]
  },
  {
   "cell_type": "markdown",
   "metadata": {},
   "source": [
    "为获得gamma峰峰位，需要进行拟合操作。"
   ]
  },
  {
   "cell_type": "markdown",
   "metadata": {},
   "source": [
    "以330-335道附近的峰为例，演示下如何用root拟合峰位。\n",
    "![](2.png)"
   ]
  },
  {
   "cell_type": "markdown",
   "metadata": {},
   "source": [
    "鼠标悬浮于放在峰位上，右键选择fitpanel。![](3.png) 出现fitpanel![](4.png)"
   ]
  },
  {
   "cell_type": "markdown",
   "metadata": {},
   "source": [
    "选择默认的gaus拟合即可。拖动下方滑块选择合适的拟合区间。随后点击fit即可完成拟合。![](5.png)"
   ]
  },
  {
   "cell_type": "markdown",
   "metadata": {},
   "source": [
    "可在终端中查看拟合参数![](6.png)也可点击菜单栏 Options->Fit Parameters进行查看。![](7.png)"
   ]
  },
  {
   "cell_type": "markdown",
   "metadata": {},
   "source": [
    "从而可以获得峰位及误差信息。这里需要留意，选取合适的拟合区间对于峰位的确认至关重要。上图中可适当再次缩小拟合区间，以获得更好的效果。![](8.png)"
   ]
  },
  {
   "cell_type": "markdown",
   "metadata": {},
   "source": [
    "此时再从能谱中找出对应的能量，即可获得一组数据点。半宽可直接通过拟合获得的sigma获得。"
   ]
  },
  {
   "cell_type": "markdown",
   "metadata": {},
   "source": [
    "## 2. 将数据填入TGraphErrors进行拟合。\n",
    "第一章的作业中用到的TGraph，一般用来表达没有误差的二维数据点的分布。当数据有误差时需要用TGraphErrors，如以上拟合得到的峰位值有误差值。\n",
    "\n",
    "仿照下面链接[TGraphErrors Class Reference](https://root.cern.ch/doc/master/classTGraphErrors.html)的做法，将数据(包含误差值)填入TGraphErrors,并画图。152Eu，133Ba的能量值[keV]的误差全部设置为0.\n",
    "将鼠标指针悬浮于图上的一个点上，点击右键选择fitpanel，在fitfunction栏中选择p2(二次多项式)，进行拟合得到拟合系数。需要留意，在进行拟合时，需要勾选`Fit Options`中的`All weights=1`进行拟合得到合理的拟合参数初值(相当于忽略误差进行拟合), 然后去掉`All weights=1`的选择，再进行拟合得到最终的拟合值。\n",
    "![](fitoption.png)\n",
    "\n",
    "关于ROOT fit的更详细用法参考以下链接[FittingHistograms](https://root.cern.ch/root/htmldoc/guides/users-guide/FittingHistograms.html\n",
    "### 2.1 高斯拟合中各个参数的含义\n",
    "高斯拟合中很容易搞混的一个概念是是sigma的含义。\n",
    "![](6.png)\n",
    "上图是上面拟合中返回的拟合参数。\n",
    "其中constant表示高斯拟合的系数p0，mean表示均值p1，sigma表示标准差p2，分别代表着高斯函数的高度、峰位、和展宽，就gamma峰而言，代表着峰位高度、峰位和探测器能量分辨能力。\n",
    "Error项代表着拟合的误差。因而，在上面带误差拟合时，峰位的误差应该选用mean的误差项，而非sigma值。"
   ]
  },
  {
   "cell_type": "markdown",
   "metadata": {},
   "source": [
    "## 3. 应用获得的刻度系数，绘制$\\gamma$能谱"
   ]
  },
  {
   "cell_type": "markdown",
   "metadata": {},
   "source": [
    "在上一步获得能量刻度系数之后，应用刻度系数即可获得刻度后的能谱。然而直接对直方图进行变换会出现一些并道的问题，这里不做过多阐述。简化起见，提供如下示例代码，供大家应用刻度系数直接生成刻度后的能谱。"
   ]
  },
  {
   "cell_type": "markdown",
   "metadata": {},
   "source": [
    "将以下代码存成 cal.C\n",
    "\n",
    "```cpp\n",
    "void cal()\n",
    "{   \n",
    "    double p0=0;//填入拟合得到的数值\n",
    "    double p1=1;\n",
    "    double p2=0;\n",
    "    TH1D *g0=new TH1D(\"g0\",\"g0\",12500,0,2500);//g0为刻度后的gamma谱\n",
    "    TRandom3 *r=new TRandom3(0);\n",
    "    for(int i=0;i<12500;i++){\n",
    "        //h0为未刻度的gamma谱。\n",
    "        Long64_t eN=h0->GetBinContent(i);// GetBinContent()提取每个bin的计数\n",
    "        Double_t e=h0->GetBinCenter(i);// GetBinCenter()提取每个bin的中心的横坐标x。\n",
    "        for(Long64_t j=0;j<eN;j++){\n",
    "            Double_t ea=e+r->Rndm()*0.2-0.1;\n",
    "            ea=p2*ea*ea+p1*ea+p0;//p0,p1,p2为上面获得的二次项刻度系数。\n",
    "            g0->Fill(ea);\n",
    "        }\n",
    "        if(i%1000==0) cout<<i<<endl;//显示运行进度\n",
    "    }\n",
    "    TFile *f=new TFile(\"gammacali.root\",\"recreate\");\n",
    "    g0->Write();\n",
    "    f->Close();\n",
    "}\n",
    "```\n",
    "按照下图操作\n",
    "![](com2.png)\n",
    "\n",
    "如果运行正常，可看到`gammacali.root`文件生成。"
   ]
  },
  {
   "cell_type": "markdown",
   "metadata": {},
   "source": [
    "按下图操作显示刻度好的能谱g0\n",
    "![](com3.png)\n"
   ]
  },
  {
   "cell_type": "markdown",
   "metadata": {},
   "source": [
    "刻度好的$\\gamma$峰的能量值应与下图标示数值接近。\n",
    "![](gamma.png)"
   ]
  },
  {
   "cell_type": "markdown",
   "metadata": {},
   "source": [
    "### 4. 检验刻度效果，绘制残差谱\n",
    "通过第三步，可以获得刻度后的gamma谱，通过对比标准源的gamma谱，能够逐峰检验刻度效果，但不够便捷。通过绘制残差谱，能够很好地检验刻度系数在各个能区范围内的偏离情况。"
   ]
  },
  {
   "cell_type": "markdown",
   "metadata": {},
   "source": [
    "### 5. gamma峰的带本底拟合\n",
    "提取峰位信息时，直接对gamma峰进行gaus拟合已经足够精确。但若提取gamma峰的能量分辨信息和峰计数，则需要考虑本底的因素。简单起见，一般选用线性本底来进行本底估计。因而选用gaus+pol1的形式进行拟合。\n",
    "但在进行拟合之前，需要首先进行高斯拟合来设定部分初始参数。\n",
    "![](12.png)\n",
    "将拟合函数修改为gaus+pol1\n",
    "![](9.png)![](10.png)![](11.png)\n",
    "将constant,mean,sigma分别填入初始参数。\n",
    "![](13.png)![](14.png)![](15.png)\n",
    "从而完成带本底拟合。"
   ]
  },
  {
   "cell_type": "markdown",
   "metadata": {},
   "source": [
    "### 6. 计算gamma峰面积(峰计数)\n",
    "计算峰面积采用HpGe gamma 探测器刻度方法中给出的面积求法。应用gaus+pol1拟合获得的sigma参数，选取mean-3*sigma，mean+3*sigma范围，进行积分。获得峰位总计数S1.\n",
    "在峰附近左右两侧各选择1.5*sigma范围进行积分，获得S2,S3.用于估计峰的本底。\n",
    "从而可以获得质子峰计数S=S1-S2-S3.\n",
    "![](16.png)\n",
    "\n",
    "#### 如何从直方图中提取面积\n",
    "如下图，若要获得红线区域内面积，首先打开提示选项`tooltip info`。然后把鼠标悬浮在黑色标记处，提取出binx项。这里两端binx分别为3435，3450.\n",
    "![](17.png)![](18.png)\n",
    "```cpp",
    "abin=h0->FindBin(686.9);\n",
    "bbin=h0->FindBin(689.9);\n",
    "h0->Integral(abin,bbin)\n",
    "```\n",
    "即可获得区域内总计数。\n"
   ]
  }
 ],
 "metadata": {
  "kernelspec": {
   "display_name": "ROOT C++",
   "language": "c++",
   "name": "root"
  },
  "language_info": {
   "codemirror_mode": "text/x-c++src",
   "file_extension": ".C",
   "mimetype": " text/x-c++src",
   "name": "c++"
  }
 },
 "nbformat": 4,
 "nbformat_minor": 2
}
