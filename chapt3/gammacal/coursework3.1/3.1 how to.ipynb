version https://git-lfs.github.com/spec/v1
oid sha256:50c7ece27a0764e86bd38c5057dffe91b0779d8e6af2b8dec7d76e55c9d12324
size 8699
