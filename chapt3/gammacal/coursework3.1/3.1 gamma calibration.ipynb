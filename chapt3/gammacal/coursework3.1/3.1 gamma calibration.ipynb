version https://git-lfs.github.com/spec/v1
oid sha256:5d666afa6d631c7da68549d905381f0083b7534694529c957eda4e36d7e36dcf
size 3565
