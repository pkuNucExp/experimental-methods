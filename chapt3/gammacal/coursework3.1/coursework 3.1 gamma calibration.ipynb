{
 "cells": [
  {
   "cell_type": "markdown",
   "metadata": {},
   "source": [
    "### Eurica $\\gamma$ - 探测阵列\n",
    "### 由12个Euroball Cluster探测器组成，每个Cluster由7个单元按照花瓣的方式排列。每个探测器距放射源相距22cm。\n",
    "![](eurica.png)\n",
    "### 实验信息\n",
    "作业中的数据为2012年在RIKEN的BigRIPS束流线上进行的Eurica Campaign实验的152Eu+133Ba 刻度数据，数据中先将每个探测器中7个单元的事件按照add-back模式相加，12个探测器的事件再相加成单个$\\gamma$-能谱。探测阵列中各探测单元的性能非常接近，因此我们用相加的数据来考察探测阵列的整体性能。\n",
    "\n",
    "探测器详情参见[Installation and commissioning of EURICA – Euroball-RIKEN Cluster Array](https://www.sciencedirect.com/science/article/pii/S0168583X13003182)\n",
    "\n",
    "### 刻度放射源信息\n",
    "出厂时间：1998年1月1日\n",
    "\n",
    "出厂活度：$^{152}Eu$: 40.9kBq, 5%不确定度；$^{133}Ba$: 42.2kBq, 3%不确定度\n",
    "\n",
    "测量起始时间：2013年2月13日\n",
    "\n",
    "测量时间间隔：7442 s\n",
    "\n",
    "半衰期：\n",
    "\n",
    "按照放射源的信息，计算测量期间152Eu和133Ba放射源各自的衰变数目$N_0$.\n",
    "\n",
    "## 作业3 HpGe 探测器刻度\n"
   ]
  },
  {
   "cell_type": "markdown",
   "metadata": {},
   "source": [
    "下载实验数据gamma.root, 在ROOT中打开。\n",
    "\n",
    "\n",
    "### 3.1 探测器能量刻度\n",
    "1. h0中的能量单位为channel,每0.2channel为一个bin。 将h0谱与152Eu和133Ba的能谱进行对比，找出h0中的峰与152Eu和133Ba中gamma峰的对应关系。\n",
    "2. 对每个峰进行gauss拟合，得到峰位和峰位误差,将每个峰的channel，峰位误差与keV值，填在TGraphErrors中。利用二次多项式进行拟合，得到拟合系数。\n",
    "3. 用拟合系数重新生成新的数据g0\n",
    "4. 评估能量刻度效果。将刻度后获得峰位能量与标准源给出的峰能量做差，做出残差图(横坐标为标准源能量，纵坐标为残差)。残差在1keV内认为刻度效果比较好。\n",
    "\n",
    "###  3.2 探测器能量分辨刻度\n",
    "1. 在进行能量刻度时，直接采用gaus拟合提取峰位是足够准确的。但计算峰位面积、提取半宽时，需要考虑本底的因素。因此需要调整峰位拟合函数，考虑本底为线性本底，将拟合函数更改为gaus+pol1.\n",
    "2. 每个峰位的半宽与峰位能量是有一定的依赖关系的。应用上面拟合的每个峰的sigma，计算出每个峰位的半宽。\n",
    "3. 选择二次函数对 半宽：能量 数据点进行拟合。(参考 作业参考)\n",
    "4. 评估刻度效果。\n"
   ]
  },
  {
   "cell_type": "markdown",
   "metadata": {},
   "source": [
    "\n",
    "作业提示：\n",
    "1. 务必阅读`HpGe gamma 探测器刻度方法`第一部分：Energy Calibration.\n",
    "2. 务必阅读`作业参考`中关于1.和2.部分的说明！！！！\n",
    "\n"
   ]
  }
 ],
 "metadata": {
  "kernelspec": {
   "display_name": "ROOT C++",
   "language": "c++",
   "name": "root"
  },
  "language_info": {
   "codemirror_mode": "text/x-c++src",
   "file_extension": ".C",
   "mimetype": " text/x-c++src",
   "name": "c++"
  }
 },
 "nbformat": 4,
 "nbformat_minor": 2
}
