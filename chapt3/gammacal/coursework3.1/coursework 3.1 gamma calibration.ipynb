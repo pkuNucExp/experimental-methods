{
 "cells": [
  {
   "cell_type": "markdown",
   "metadata": {},
   "source": [
    "### Eurica $\\gamma$ - 探测阵列\n",
    "### 由12个Euroball Cluster探测器组成，每个Cluster由7个单元按照花瓣的方式排列。每个探测器距放射源相距22cm。\n",
    "![](eurica.png)\n",
    "### 实验信息\n",
    "作业中的数据为2012年在RIKEN的BigRIPS束流线上进行的Eurica Campaign实验的152Eu刻度数据，数据中先将每个探测器中7个单元的事件按照add-back模式相加，12个探测器的事件再相加成单个$\\gamma$-能谱。探测阵列中各探测单元的性能非常接近，因此我们用相加的数据来考察探测阵列的整体性能。\n",
    "\n",
    "探测器详情参见[Installation and commissioning of EURICA – Euroball-RIKEN Cluster Array](https://www.sciencedirect.com/science/article/pii/S0168583X13003182)\n",
    "\n",
    "### $^{152}Eu$ 放射源信息\n",
    "出厂时间：\n",
    "\n",
    "出厂活度：\n",
    "\n",
    "测量时间：\n",
    "\n",
    "半衰期：\n",
    "按照放射源的信息，计算实验期间152Eu放射源的衰变数目$N_0$.\n",
    "\n",
    "## 作业3 HpGe 探测器刻度\n"
   ]
  },
  {
   "cell_type": "markdown",
   "metadata": {},
   "source": [
    "下载实验数据gamma.root, 在ROOT中打开。\n",
    "\n",
    "\n",
    "### 3.1 探测器能量刻度\n",
    "1. h0中的能量单位为channel,每0.5channel为一个bin。 将h0谱与152Eu的能谱进行对比，找出h0中的峰与152Eu中gamma峰的对应关系。\n",
    "2. 对每个峰进行gauss拟合，得到峰位和sigma,将每个峰的channel，sigma与keV值，填在TGraph中。利用多项式进行拟合，得到拟合系数。\n",
    "3. 用拟合系数重新生成新的数据g0"
   ]
  },
  {
   "cell_type": "markdown",
   "metadata": {},
   "source": [
    "\n",
    "作业提示：\n",
    "1. 务必阅读`HpGe gamma 探测器刻度方法`第一部分：Energy Calibration.\n",
    "2. 务必阅读`作业参考`中关于1.和2.部分的说明！！！！\n",
    "\n"
   ]
  },
  {
   "cell_type": "code",
   "execution_count": null,
   "metadata": {},
   "outputs": [],
   "source": []
  }
 ],
 "metadata": {
  "kernelspec": {
   "display_name": "ROOT C++",
   "language": "c++",
   "name": "root"
  },
  "language_info": {
   "codemirror_mode": "text/x-c++src",
   "file_extension": ".C",
   "mimetype": " text/x-c++src",
   "name": "c++"
  }
 },
 "nbformat": 4,
 "nbformat_minor": 2
}
