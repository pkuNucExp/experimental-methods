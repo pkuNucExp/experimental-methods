{
 "cells": [
  {
   "cell_type": "markdown",
   "metadata": {},
   "source": [
    "### 背景描述\n",
    "#### 实验装置\n",
    "![](RIKEN.png)\n",
    "#### 实验信息\n",
    "本次实验在RIKEN的放射性束流线上完成。束流为$^{238}\\rm{U}^{86+}$，能量为345 MeV/u，流强为7-12 pnA，靶为3mm的$^{9}\\rm{Be}$. 为测量gamma信息，采用了12个Germanium detector(EURICA).\n",
    "\n",
    "## 作业3.1 对未刻度的Eu152标准源进行能量刻度"
   ]
  },
  {
   "cell_type": "markdown",
   "metadata": {},
   "source": [
    "作业提示：\n",
    "1. 务必先阅读`作业参考`中关于峰位拟合部分的说明！！！！\n",
    "2. 对`gamma.root`中的h0gamma谱进行刻度。其中横坐标为道址，纵坐标为计数。\n",
    "3. h0为Eu152标准源的gamma谱。通过拟合获得峰位，对照作业说明中的给出的示例gamma谱，确定拟合峰位对应的能量。\n",
    "4. 将对应的峰和能量添加到TGraph类中，并进行拟合。"
   ]
  }
 ],
 "metadata": {
  "kernelspec": {
   "display_name": "ROOT C++",
   "language": "c++",
   "name": "root"
  },
  "language_info": {
   "codemirror_mode": "text/x-c++src",
   "file_extension": ".C",
   "mimetype": " text/x-c++src",
   "name": "c++"
  }
 },
 "nbformat": 4,
 "nbformat_minor": 2
}
