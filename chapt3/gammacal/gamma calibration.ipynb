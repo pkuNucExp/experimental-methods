{
 "cells": [
  {
   "cell_type": "code",
   "execution_count": 1,
   "metadata": {},
   "outputs": [],
   "source": [
    "%jsroot on"
   ]
  },
  {
   "cell_type": "markdown",
   "metadata": {},
   "source": [
    "## Calibration of HpGe  γ - detector"
   ]
  },
  {
   "cell_type": "markdown",
   "metadata": {},
   "source": [
    "### 1.Energy Calibration\n",
    "The energy calibration of the HPGe system is performed in the energy range of interest, 50 keV - 3000 keV, using certified spectrometric standard sources, namely, 133Ba, 137Cs, 60Co, 152Eu, 22Na, with characteristics described in their calibration certificates. There are considered, also, the energetic lines of the natural radionuclides, 40K and 208Tl, of 1460 keV, respectively of 2614 keV."
   ]
  },
  {
   "cell_type": "markdown",
   "metadata": {},
   "source": [
    "![152Eu](152Eu.png)"
   ]
  },
  {
   "cell_type": "markdown",
   "metadata": {},
   "source": [
    "The energy calibration curve, described by the following 2 degrees polynomial function:\n",
    "\n",
    "$$Energy [keV] = a_0 +a_1 \\times Channel + a_2 \\times (Channel)^2$$"
   ]
  },
  {
   "cell_type": "markdown",
   "metadata": {},
   "source": [
    "![enenrgy calibration](energy.png)"
   ]
  },
  {
   "cell_type": "markdown",
   "metadata": {},
   "source": [
    "### 2. Peak Width Calibration\n",
    "The resolution (FWHM) calibration curve is described by a two degrees polynomial function, as follows:"
   ]
  },
  {
   "cell_type": "markdown",
   "metadata": {},
   "source": [
    "$$FWHM [keV] = a_0 +a_1×E_{\\gamma} + a_2×E_{\\gamma}^2$$"
   ]
  },
  {
   "cell_type": "markdown",
   "metadata": {},
   "source": [
    "![fwhm calibration](width.png)"
   ]
  },
  {
   "cell_type": "markdown",
   "metadata": {},
   "source": [
    "### 3. Peak efficiency calibration\n",
    "The efficiency calibration can be done using the same certified spectrometric standard sources mentioned above, for the energy calibration. The full-energy peak efficiency ε(E) at energy E, can be determined by using the following equation:\n",
    "\n",
    "$$\\varepsilon(E_{\\gamma})=\\frac{N(E_{\\gamma})}{A_0e^{-\\lambda t} P_{\\gamma}\\Delta t}$$\n",
    "\n",
    "where, $N(E_{\\gamma})$ is the net area in counts, $A_0$ the activity of source at the time of standardization, $p_γ$ the absolute γ-ray emission probability, t the elapsed time since standardization, λ is the decay constant,$\\Delta t$ is the measuring time.\n",
    "\n",
    "The background under a peak is defined as the avarage count in a region equal to $3 \\Gamma$ (3 FWHM) extending $1.5 \\Gamma$ on both sides of the peak. The net peak area is then given by\n",
    "\n",
    "$$N=G-B_L-B_R$$\n",
    "![net area](netcount.png)"
   ]
  },
  {
   "cell_type": "markdown",
   "metadata": {},
   "source": [
    "Various functions and combinations of functions can be used to describe the energy dependence of efficiency. For example，"
   ]
  },
  {
   "cell_type": "markdown",
   "metadata": {},
   "source": [
    "$$\\varepsilon(E)=1/E \\sum_{i=1}^n a_i(ln E)^{i-1} \\quad ,i=1-8(i\\neq 5,7)$$"
   ]
  },
  {
   "cell_type": "markdown",
   "metadata": {},
   "source": [
    "![efficiency calibration](eff.png)"
   ]
  },
  {
   "cell_type": "code",
   "execution_count": null,
   "metadata": {},
   "outputs": [],
   "source": []
  }
 ],
 "metadata": {
  "kernelspec": {
   "display_name": "ROOT C++",
   "language": "c++",
   "name": "root"
  },
  "language_info": {
   "codemirror_mode": "text/x-c++src",
   "file_extension": ".C",
   "mimetype": " text/x-c++src",
   "name": "c++"
  }
 },
 "nbformat": 4,
 "nbformat_minor": 2
}
