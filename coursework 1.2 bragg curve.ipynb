{
 "cells": [
  {
   "cell_type": "markdown",
   "metadata": {},
   "source": [
    "## 作业 1.1 计算Bragg curve\n",
    "\n",
    "计算质子和$^{12}C$在水中的Bragg curve，假设质子和$^{12}C$的Bragg peak 都位于127mm处，Bragg curve的横轴单位取mm，纵轴单位取 MeV/mm。\n",
    "两种粒子的曲线画在一张图上。\n",
    "\n",
    "### 提示：\n",
    " 1. 先计算某一种粒子射程在127mm处的能量，再计算$\\pm 10mm$的Bragg curve来确定 Bragg peak的位置。微调入射能量来确定Bragg peak在127mm处的入射能量。\n",
    " \n",
    "### 预期效果\n",
    "![](BraggCurve.png)\n",
    "\n"
   ]
  },
  {
   "cell_type": "code",
   "execution_count": null,
   "metadata": {},
   "outputs": [],
   "source": []
  }
 ],
 "metadata": {
  "kernelspec": {
   "display_name": "ROOT C++",
   "language": "c++",
   "name": "root"
  },
  "language_info": {
   "codemirror_mode": "text/x-c++src",
   "file_extension": ".C",
   "mimetype": " text/x-c++src",
   "name": "c++"
  }
 },
 "nbformat": 4,
 "nbformat_minor": 2
}
